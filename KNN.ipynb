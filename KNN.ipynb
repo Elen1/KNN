{
 "cells": [
  {
   "cell_type": "code",
   "execution_count": 1,
   "metadata": {},
   "outputs": [],
   "source": [
    "import numpy as np"
   ]
  },
  {
   "cell_type": "code",
   "execution_count": 2,
   "metadata": {},
   "outputs": [],
   "source": [
    "label_indices = {\n",
    "\n",
    "    \"Iris-setosa\": 0,\n",
    "\n",
    "    \"Iris-versicolor\": 1,\n",
    "\n",
    "    \"Iris-virginica\": 2\n",
    "\n",
    "}"
   ]
  },
  {
   "cell_type": "code",
   "execution_count": 3,
   "metadata": {},
   "outputs": [],
   "source": [
    "X = []\n",
    "y = []\n",
    "with open('/home/elen/Downloads/iris.data', 'r', encoding='utf-8') as f:\n",
    "    for line in f:\n",
    "        line = line.strip()\n",
    "        if not line:\n",
    "            continue\n",
    "        line = line.split(',')\n",
    "        \n",
    "        x = line[:4]\n",
    "        x = [float(i) for i in x]\n",
    "        X.append(x)\n",
    "        \n",
    "        label = line[-1]\n",
    "        label_id = label_indices[label] \n",
    "        y.append(label_id)\n",
    "        \n",
    "X = np.array(X, dtype=np.float32)\n",
    "y = np.array(y, dtype=np.int)"
   ]
  },
  {
   "cell_type": "code",
   "execution_count": 4,
   "metadata": {},
   "outputs": [],
   "source": [
    "def split_dataset(X, y, train_ratio):\n",
    "\n",
    "    sample_numbers = X.shape[0]\n",
    "    indexes = np.random.permutation(sample_numbers)\n",
    "    X_shuffeled = X[indexes]\n",
    "    y_shuffeled = y[indexes]\n",
    "\n",
    "    for_train = int(sample_numbers * train_ratio)\n",
    "    train_X = X_shuffeled[:for_train]\n",
    "    train_y = y_shuffeled[:for_train]\n",
    "    test_X = X_shuffeled[for_train:]\n",
    "    test_y = y_shuffeled[for_train:]\n",
    "\n",
    "    return (train_X, train_y), (test_X, test_y)"
   ]
  },
  {
   "cell_type": "code",
   "execution_count": 5,
   "metadata": {},
   "outputs": [],
   "source": [
    "def euclideanDistance(instance1, instance2):\n",
    "    distance = np.linalg.norm(instance1 - instance2,ord = 2)\n",
    "    return distance"
   ]
  },
  {
   "cell_type": "code",
   "execution_count": 6,
   "metadata": {},
   "outputs": [],
   "source": [
    "def getNeighbors(X_train, y_train, k,X_test):\n",
    "    predictions = []\n",
    "    for testInstance in X_test:\n",
    "        distances = np.zeros(X_train.shape[0])\n",
    "        most_frequent = 0\n",
    "        for i, trainInstance in enumerate(X_train):\n",
    "            distances[i] = euclideanDistance(trainInstance,testInstance)\n",
    "        sorted_indexes = np.argsort(distances)\n",
    "        k_nearest_indexes = sorted_indexes[:k]\n",
    "        neighbour_labels = y_train[k_nearest_indexes]\n",
    "        counts = np.bincount(neighbour_labels, minlength=3)\n",
    "        most_frequent = np.argmax(counts)\n",
    "        predictions.append(most_frequent)\n",
    "    return predictions"
   ]
  },
  {
   "cell_type": "code",
   "execution_count": 7,
   "metadata": {},
   "outputs": [],
   "source": [
    "def getAccuracy(testSet, predictions):\n",
    "    correct = 0\n",
    "    for i, true_label in enumerate(testSet):\n",
    "        if true_label == predictions[i]:\n",
    "            correct += 1\n",
    "    return (correct/(len(testSet))) * 100\n",
    "\n"
   ]
  },
  {
   "cell_type": "code",
   "execution_count": 8,
   "metadata": {},
   "outputs": [],
   "source": [
    "train_set, test_set = split_dataset(X, y, 0.8)"
   ]
  },
  {
   "cell_type": "code",
   "execution_count": 9,
   "metadata": {},
   "outputs": [],
   "source": [
    "X_train, y_train = train_set\n",
    "\n",
    "X_test, y_test = test_set"
   ]
  },
  {
   "cell_type": "code",
   "execution_count": 10,
   "metadata": {},
   "outputs": [],
   "source": [
    "predictions = getNeighbors(X_train,y_train,3,X_test)"
   ]
  },
  {
   "cell_type": "code",
   "execution_count": 12,
   "metadata": {},
   "outputs": [
    {
     "data": {
      "text/plain": [
       "96.66666666666667"
      ]
     },
     "execution_count": 12,
     "metadata": {},
     "output_type": "execute_result"
    }
   ],
   "source": [
    "getAccuracy(y_test,predictions)"
   ]
  }
 ],
 "metadata": {
  "kernelspec": {
   "display_name": "Python 3",
   "language": "python",
   "name": "python3"
  },
  "language_info": {
   "codemirror_mode": {
    "name": "ipython",
    "version": 3
   },
   "file_extension": ".py",
   "mimetype": "text/x-python",
   "name": "python",
   "nbconvert_exporter": "python",
   "pygments_lexer": "ipython3",
   "version": "3.5.2"
  }
 },
 "nbformat": 4,
 "nbformat_minor": 2
}
